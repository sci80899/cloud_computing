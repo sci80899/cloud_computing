{
 "cells": [
  {
   "cell_type": "code",
   "execution_count": 5,
   "id": "chemical-verification",
   "metadata": {},
   "outputs": [],
   "source": [
    "from scrapers import find_ID,movieinfo,review_scraper\n",
    "from moviepal import moviepal"
   ]
  },
  {
   "cell_type": "code",
   "execution_count": 6,
   "id": "iraqi-organizer",
   "metadata": {},
   "outputs": [
    {
     "data": {
      "text/plain": [
       "'tt1361336'"
      ]
     },
     "execution_count": 6,
     "metadata": {},
     "output_type": "execute_result"
    }
   ],
   "source": [
    "ID = find_ID('tom and jerry')\n",
    "ID"
   ]
  },
  {
   "cell_type": "code",
   "execution_count": 8,
   "id": "photographic-universal",
   "metadata": {},
   "outputs": [
    {
     "data": {
      "text/html": [
       "<div>\n",
       "<style scoped>\n",
       "    .dataframe tbody tr th:only-of-type {\n",
       "        vertical-align: middle;\n",
       "    }\n",
       "\n",
       "    .dataframe tbody tr th {\n",
       "        vertical-align: top;\n",
       "    }\n",
       "\n",
       "    .dataframe thead th {\n",
       "        text-align: right;\n",
       "    }\n",
       "</style>\n",
       "<table border=\"1\" class=\"dataframe\">\n",
       "  <thead>\n",
       "    <tr style=\"text-align: right;\">\n",
       "      <th></th>\n",
       "      <th>ID</th>\n",
       "      <th>title</th>\n",
       "      <th>level</th>\n",
       "      <th>score</th>\n",
       "      <th>duration</th>\n",
       "      <th>poster</th>\n",
       "      <th>story</th>\n",
       "      <th>director</th>\n",
       "      <th>stars</th>\n",
       "    </tr>\n",
       "  </thead>\n",
       "  <tbody>\n",
       "    <tr>\n",
       "      <th>0</th>\n",
       "      <td>tt1361336</td>\n",
       "      <td>Tom and Jerry (2021)</td>\n",
       "      <td>PG</td>\n",
       "      <td>5.2/10</td>\n",
       "      <td>1h 41min</td>\n",
       "      <td>https://m.media-amazon.com/images/M/MV5BYzE3OD...</td>\n",
       "      <td>A chaotic battle ensues between Jerry Mouse, w...</td>\n",
       "      <td>Tim Story</td>\n",
       "      <td>Chloë Grace Moretz, Michael Peña, Colin Jost |</td>\n",
       "    </tr>\n",
       "  </tbody>\n",
       "</table>\n",
       "</div>"
      ],
      "text/plain": [
       "          ID                  title level    score  duration  \\\n",
       "0  tt1361336  Tom and Jerry (2021)     PG  5.2/10   1h 41min   \n",
       "\n",
       "                                              poster  \\\n",
       "0  https://m.media-amazon.com/images/M/MV5BYzE3OD...   \n",
       "\n",
       "                                               story    director  \\\n",
       "0  A chaotic battle ensues between Jerry Mouse, w...  Tim Story    \n",
       "\n",
       "                                            stars  \n",
       "0  Chloë Grace Moretz, Michael Peña, Colin Jost |  "
      ]
     },
     "execution_count": 8,
     "metadata": {},
     "output_type": "execute_result"
    }
   ],
   "source": [
    "movieinfo(ID)"
   ]
  },
  {
   "cell_type": "code",
   "execution_count": 9,
   "id": "intellectual-methodology",
   "metadata": {},
   "outputs": [
    {
     "data": {
      "text/html": [
       "<div>\n",
       "<style scoped>\n",
       "    .dataframe tbody tr th:only-of-type {\n",
       "        vertical-align: middle;\n",
       "    }\n",
       "\n",
       "    .dataframe tbody tr th {\n",
       "        vertical-align: top;\n",
       "    }\n",
       "\n",
       "    .dataframe thead th {\n",
       "        text-align: right;\n",
       "    }\n",
       "</style>\n",
       "<table border=\"1\" class=\"dataframe\">\n",
       "  <thead>\n",
       "    <tr style=\"text-align: right;\">\n",
       "      <th></th>\n",
       "      <th>user name</th>\n",
       "      <th>score</th>\n",
       "      <th>review</th>\n",
       "    </tr>\n",
       "  </thead>\n",
       "  <tbody>\n",
       "    <tr>\n",
       "      <th>0</th>\n",
       "      <td>ps-74176</td>\n",
       "      <td>10</td>\n",
       "      <td>Tom and Jerry is part of our childhood memorie...</td>\n",
       "    </tr>\n",
       "    <tr>\n",
       "      <th>1</th>\n",
       "      <td>goyalroddy</td>\n",
       "      <td>10</td>\n",
       "      <td>Loved it ... everything was perfect and they n...</td>\n",
       "    </tr>\n",
       "    <tr>\n",
       "      <th>2</th>\n",
       "      <td>healthreallymatters</td>\n",
       "      <td>10</td>\n",
       "      <td>Perfect modern version of Tom and Jerry movie....</td>\n",
       "    </tr>\n",
       "    <tr>\n",
       "      <th>3</th>\n",
       "      <td>ydrcpew</td>\n",
       "      <td>9</td>\n",
       "      <td>I Found Out That The Film Just Falied I Don't ...</td>\n",
       "    </tr>\n",
       "    <tr>\n",
       "      <th>4</th>\n",
       "      <td>projectsgamer</td>\n",
       "      <td>9</td>\n",
       "      <td>This movie I believe is a Really good movie I ...</td>\n",
       "    </tr>\n",
       "    <tr>\n",
       "      <th>5</th>\n",
       "      <td>sab_dhkl</td>\n",
       "      <td>9</td>\n",
       "      <td>I can't understand the negative reviews here. ...</td>\n",
       "    </tr>\n",
       "    <tr>\n",
       "      <th>6</th>\n",
       "      <td>blanbrn</td>\n",
       "      <td>9</td>\n",
       "      <td>Always was a fan of the cat and mouse duo \"Tom...</td>\n",
       "    </tr>\n",
       "    <tr>\n",
       "      <th>7</th>\n",
       "      <td>skankhunt-28052</td>\n",
       "      <td>2</td>\n",
       "      <td>I never write reviews on here but just wtf is ...</td>\n",
       "    </tr>\n",
       "    <tr>\n",
       "      <th>8</th>\n",
       "      <td>ladysure</td>\n",
       "      <td>10</td>\n",
       "      <td>Loved the Animation, the music, acting, feel g...</td>\n",
       "    </tr>\n",
       "    <tr>\n",
       "      <th>9</th>\n",
       "      <td>nada_i_magdy</td>\n",
       "      <td>8</td>\n",
       "      <td>The movie meant to be light not deep or someth...</td>\n",
       "    </tr>\n",
       "  </tbody>\n",
       "</table>\n",
       "</div>"
      ],
      "text/plain": [
       "             user name score  \\\n",
       "0             ps-74176    10   \n",
       "1           goyalroddy    10   \n",
       "2  healthreallymatters    10   \n",
       "3              ydrcpew     9   \n",
       "4        projectsgamer     9   \n",
       "5             sab_dhkl     9   \n",
       "6              blanbrn     9   \n",
       "7      skankhunt-28052     2   \n",
       "8             ladysure    10   \n",
       "9         nada_i_magdy     8   \n",
       "\n",
       "                                              review  \n",
       "0  Tom and Jerry is part of our childhood memorie...  \n",
       "1  Loved it ... everything was perfect and they n...  \n",
       "2  Perfect modern version of Tom and Jerry movie....  \n",
       "3  I Found Out That The Film Just Falied I Don't ...  \n",
       "4  This movie I believe is a Really good movie I ...  \n",
       "5  I can't understand the negative reviews here. ...  \n",
       "6  Always was a fan of the cat and mouse duo \"Tom...  \n",
       "7  I never write reviews on here but just wtf is ...  \n",
       "8  Loved the Animation, the music, acting, feel g...  \n",
       "9  The movie meant to be light not deep or someth...  "
      ]
     },
     "execution_count": 9,
     "metadata": {},
     "output_type": "execute_result"
    }
   ],
   "source": [
    "review = review_scraper(ID)\n",
    "review"
   ]
  },
  {
   "cell_type": "code",
   "execution_count": 10,
   "id": "decimal-vessel",
   "metadata": {},
   "outputs": [
    {
     "ename": "NameError",
     "evalue": "name 'review_scraper' is not defined",
     "output_type": "error",
     "traceback": [
      "\u001b[1;31m---------------------------------------------------------------------------\u001b[0m",
      "\u001b[1;31mNameError\u001b[0m                                 Traceback (most recent call last)",
      "\u001b[1;32m<ipython-input-10-bfbb244d9ee3>\u001b[0m in \u001b[0;36m<module>\u001b[1;34m\u001b[0m\n\u001b[1;32m----> 1\u001b[1;33m \u001b[0mmoviepal\u001b[0m\u001b[1;33m(\u001b[0m\u001b[1;34m'tt1361336'\u001b[0m\u001b[1;33m)\u001b[0m\u001b[1;33m\u001b[0m\u001b[1;33m\u001b[0m\u001b[0m\n\u001b[0m",
      "\u001b[1;32m~\\Desktop\\pythonProject\\moviepal.py\u001b[0m in \u001b[0;36mmoviepal\u001b[1;34m(ID)\u001b[0m\n\u001b[0;32m     45\u001b[0m     \u001b[0mreview_model\u001b[0m\u001b[1;33m.\u001b[0m\u001b[0mcompile\u001b[0m\u001b[1;33m(\u001b[0m\u001b[0mloss\u001b[0m\u001b[1;33m=\u001b[0m\u001b[1;34m'binary_crossentropy'\u001b[0m\u001b[1;33m,\u001b[0m\u001b[0moptimizer\u001b[0m\u001b[1;33m=\u001b[0m\u001b[0mAdam\u001b[0m\u001b[1;33m(\u001b[0m\u001b[1;36m0.001\u001b[0m\u001b[1;33m)\u001b[0m\u001b[1;33m,\u001b[0m\u001b[0mmetrics\u001b[0m\u001b[1;33m=\u001b[0m\u001b[1;33m[\u001b[0m\u001b[1;34m'accuracy'\u001b[0m\u001b[1;33m]\u001b[0m\u001b[1;33m,\u001b[0m\u001b[1;33m)\u001b[0m\u001b[1;33m\u001b[0m\u001b[1;33m\u001b[0m\u001b[0m\n\u001b[0;32m     46\u001b[0m     \u001b[0mreview_model\u001b[0m\u001b[1;33m.\u001b[0m\u001b[0mload_weights\u001b[0m\u001b[1;33m(\u001b[0m\u001b[1;34m'imdb_lstm.h5'\u001b[0m\u001b[1;33m)\u001b[0m\u001b[1;33m\u001b[0m\u001b[1;33m\u001b[0m\u001b[0m\n\u001b[1;32m---> 47\u001b[1;33m     \u001b[0mreview\u001b[0m \u001b[1;33m=\u001b[0m \u001b[0mreview_scraper\u001b[0m\u001b[1;33m(\u001b[0m\u001b[0mID\u001b[0m\u001b[1;33m)\u001b[0m\u001b[1;33m\u001b[0m\u001b[1;33m\u001b[0m\u001b[0m\n\u001b[0m\u001b[0;32m     48\u001b[0m     \u001b[0mx\u001b[0m \u001b[1;33m=\u001b[0m \u001b[1;33m[\u001b[0m\u001b[1;33m]\u001b[0m\u001b[1;33m\u001b[0m\u001b[1;33m\u001b[0m\u001b[0m\n\u001b[0;32m     49\u001b[0m     \u001b[1;32mfor\u001b[0m \u001b[0mi\u001b[0m \u001b[1;32min\u001b[0m \u001b[0mrange\u001b[0m\u001b[1;33m(\u001b[0m\u001b[0mlen\u001b[0m\u001b[1;33m(\u001b[0m\u001b[0mreview\u001b[0m\u001b[1;33m[\u001b[0m\u001b[1;34m'review'\u001b[0m\u001b[1;33m]\u001b[0m\u001b[1;33m)\u001b[0m\u001b[1;33m)\u001b[0m\u001b[1;33m:\u001b[0m\u001b[1;33m\u001b[0m\u001b[1;33m\u001b[0m\u001b[0m\n",
      "\u001b[1;31mNameError\u001b[0m: name 'review_scraper' is not defined"
     ]
    }
   ],
   "source": [
    "moviepal('tt1361336')"
   ]
  },
  {
   "cell_type": "code",
   "execution_count": null,
   "id": "devoted-vegetarian",
   "metadata": {},
   "outputs": [],
   "source": []
  },
  {
   "cell_type": "code",
   "execution_count": null,
   "id": "external-transparency",
   "metadata": {},
   "outputs": [],
   "source": []
  }
 ],
 "metadata": {
  "kernelspec": {
   "display_name": "Python 3",
   "language": "python",
   "name": "python3"
  },
  "language_info": {
   "codemirror_mode": {
    "name": "ipython",
    "version": 3
   },
   "file_extension": ".py",
   "mimetype": "text/x-python",
   "name": "python",
   "nbconvert_exporter": "python",
   "pygments_lexer": "ipython3",
   "version": "3.7.9"
  }
 },
 "nbformat": 4,
 "nbformat_minor": 5
}
